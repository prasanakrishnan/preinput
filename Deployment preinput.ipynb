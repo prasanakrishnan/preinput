{
 "cells": [
  {
   "cell_type": "code",
   "execution_count": 1,
   "id": "310fcc06-8eee-4b2a-9249-954a5a980af7",
   "metadata": {},
   "outputs": [],
   "source": [
    "import pandas as pd\n",
    "import pickle\n",
    "from pickle import dump , load"
   ]
  },
  {
   "cell_type": "code",
   "execution_count": 2,
   "id": "3d54d4b0-55d9-4b5f-980b-1eacf9bc9baf",
   "metadata": {},
   "outputs": [],
   "source": [
    "sc = load(open('StandardScaler.pkl', 'rb'))"
   ]
  },
  {
   "cell_type": "code",
   "execution_count": 3,
   "id": "df607909-5c86-46c2-8177-279130a55d5b",
   "metadata": {},
   "outputs": [
    {
     "name": "stderr",
     "output_type": "stream",
     "text": [
      "C:\\Users\\Dell\\anaconda3\\envs\\aiml\\Lib\\site-packages\\sklearn\\base.py:493: UserWarning: X does not have valid feature names, but StandardScaler was fitted with feature names\n",
      "  warnings.warn(\n"
     ]
    }
   ],
   "source": [
    "preinput=sc.transform([[1300,12000,4000,0,1]])"
   ]
  },
  {
   "cell_type": "code",
   "execution_count": 4,
   "id": "e611fb65-a878-4f28-8e70-749484cd6cf2",
   "metadata": {},
   "outputs": [
    {
     "data": {
      "text/plain": [
       "array([[-1.46754484, -4.33834816, -1.50743981, -0.5       ,  1.30088727]])"
      ]
     },
     "execution_count": 4,
     "metadata": {},
     "output_type": "execute_result"
    }
   ],
   "source": [
    "preinput"
   ]
  },
  {
   "cell_type": "code",
   "execution_count": 5,
   "id": "0500e860-cc21-4c4c-b44f-c59365f8bb21",
   "metadata": {},
   "outputs": [],
   "source": [
    "loaded_model=pickle.load(open(\"finalized_model_svr.sav\",'rb'))\n",
    "result=loaded_model.predict(preinput)\n"
   ]
  },
  {
   "cell_type": "code",
   "execution_count": 6,
   "id": "3443ee38-f700-4dea-bc1c-caa0a7bd5d31",
   "metadata": {},
   "outputs": [
    {
     "data": {
      "text/plain": [
       "array([97410.49005727])"
      ]
     },
     "execution_count": 6,
     "metadata": {},
     "output_type": "execute_result"
    }
   ],
   "source": [
    "result"
   ]
  },
  {
   "cell_type": "code",
   "execution_count": null,
   "id": "aae9282c-18f9-4c23-a1e6-d45b8da12b75",
   "metadata": {},
   "outputs": [],
   "source": []
  }
 ],
 "metadata": {
  "kernelspec": {
   "display_name": "Python 3 (ipykernel)",
   "language": "python",
   "name": "python3"
  },
  "language_info": {
   "codemirror_mode": {
    "name": "ipython",
    "version": 3
   },
   "file_extension": ".py",
   "mimetype": "text/x-python",
   "name": "python",
   "nbconvert_exporter": "python",
   "pygments_lexer": "ipython3",
   "version": "3.11.8"
  }
 },
 "nbformat": 4,
 "nbformat_minor": 5
}
